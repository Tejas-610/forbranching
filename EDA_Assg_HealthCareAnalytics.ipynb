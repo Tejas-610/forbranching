{
  "nbformat": 4,
  "nbformat_minor": 0,
  "metadata": {
    "colab": {
      "provenance": []
    },
    "kernelspec": {
      "name": "python3",
      "display_name": "Python 3"
    },
    "language_info": {
      "name": "python"
    }
  },
  "cells": [
    {
      "cell_type": "markdown",
      "source": [
        "**Assignment Submission Guidelines**\n",
        "\n",
        "**1. Submission Platform:**\n",
        "\n",
        "- Submit your completed assignment through Google Classroom.\n",
        "\n",
        "**2. Submission Format:**\n",
        "\n",
        "- Submit the Google Colab Notebook (.ipynb file) provided as the assignment template.\n",
        "- Do not create a new notebook. Fill in the provided template.\n",
        "\n",
        "**3. Template Completion:**\n",
        "\n",
        "The template notebook contains:\n",
        "- The code to generate the Health Care Analytics csv dataset.\n",
        "- Placeholders for your code and explanations for each question.\n",
        "\n",
        "Follow the instructions within the template.\n",
        "- Code Cells:\n",
        "  - Place your code solutions directly in the designated code cells below each question.\n",
        "- Markdown Cells:\n",
        "  - Provide your explanations and justifications in the designated Markdown cells.\n",
        "- Report section:\n",
        "  - Complete the markdown section at the bottom of the notebook titled \"Report\".\n",
        "  - In this section, compile the explanation of each of the questions.\n",
        "  - Answer the following data analysis questions:\n",
        "    1.  What are the key characteristics of the patient and medical visit data?\n",
        "    2. What are the main trends in medical expenses?\n",
        "    3. How does patient age relate to treatment costs?\n",
        "    4. Identify and discuss any potential data quality issues.\n",
        "    5. Provide 2-3 actionable insights for healthcare providers based on your analysis.\n",
        "- Do not modify the structure of the template notebook.\n",
        "\n",
        "**4. File Naming:**\n",
        "\n",
        "Ensure the file name remains as provided in the template. Do not rename the file.\n",
        "\n",
        "**5. Timely Submission:**\n",
        "\n",
        "- Submit your completed template notebook by the deadline: **24th of March, 2025**.\n",
        "- Late submissions will be penalized as follows:\n",
        "- Submissions within **5:00pm 26th of March, 2025**  will receive a maximum of 5 marks for timely submission.\n",
        "Submissions after  will receive 0 marks for timely submission.\n",
        "\n",
        "**6. Report:**\n",
        "\n",
        "- Complete the \"Report\" section at the end of your notebook.\n",
        "- Ensure your report is:\n",
        "  - Well-organized and easy to read.\n",
        "  - Clear and concise.\n",
        "  - Free of grammatical errors.\n",
        "\n",
        "**7. Code Execution:**\n",
        "\n",
        "Ensure your completed notebook runs without errors from top to bottom.\n",
        "Before submitting, restart the kernel and run all cells to confirm reproducibility.\n",
        "\n",
        "\n",
        "\n",
        "**8. Academic Integrity:**\n",
        "\n",
        "All work must be your own.\n",
        "Plagiarism will result in a failing grade.\n",
        "Cite any external resources you use.\n",
        "\n",
        "\n",
        "\n",
        "**Tips for Success:**\n",
        "\n",
        "- Start the assignment early.\n",
        "- Read the instructions within the template carefully.\n",
        "- Plan your approach before coding.\n",
        "- Test your code thoroughly.\n",
        "- Document your work clearly.\n",
        "- Review the rubrics to understand the grading criteria.\n"
      ],
      "metadata": {
        "id": "a2dHwicNx8PJ"
      }
    },
    {
      "cell_type": "markdown",
      "source": [
        "**Grading Rubrics:**\n",
        "\n",
        "Total 50 Marks\n",
        "\n",
        "- Timely Submission: 10 Marks\n",
        "- Report : 10 Marks\n",
        "- Level 1 (Basic Questions): 5 Marks (1 x 5 = 5)\n",
        "- Level 2 (Intermediate Questions): 10 Marks (2 x 5 = 10)\n",
        "- Level 3 (Advanced Questions): 15 Marks (3 x 5 = 15)"
      ],
      "metadata": {
        "id": "Snp9b_WtyO2v"
      }
    },
    {
      "cell_type": "markdown",
      "source": [
        "**Assignment: Healthcare Analytics Company**\n",
        "\n",
        "**Background:**\n",
        "\n",
        "You are a data analyst working for \"HealthInsights,\" a company specializing in healthcare analytics. HealthInsights partners with hospitals, clinics, and insurance providers to provide data-driven insights into patient care and healthcare management. Your team has been tasked with analyzing datasets containing patient records and medical visit details. These datasets, compiled from raw sources, contain information on patient demographics, diagnoses, treatment costs, and insurance coverage.\n",
        "\n",
        "Your goal is to leverage this data to uncover key patterns in patient health and healthcare utilization. By identifying these trends, you can provide actionable recommendations to healthcare providers for better patient care, resource allocation, and cost management."
      ],
      "metadata": {
        "id": "qEUIqI06uTNW"
      }
    },
    {
      "cell_type": "code",
      "source": [
        "!pip install Faker"
      ],
      "metadata": {
        "id": "UJ0jBtRuu0r9"
      },
      "execution_count": null,
      "outputs": []
    },
    {
      "cell_type": "code",
      "execution_count": null,
      "metadata": {
        "id": "ttA-B8UiuMyL"
      },
      "outputs": [],
      "source": [
        "import pandas as pd\n",
        "import numpy as np\n",
        "from faker import Faker\n",
        "\n",
        "# Initialize Faker\n",
        "fake = Faker()\n",
        "\n",
        "# Generate Patient Data\n",
        "df_patients = pd.DataFrame({\n",
        "    'patient_id': range(1, 101),\n",
        "    'name': [fake.name() for _ in range(100)],\n",
        "    'age': np.random.randint(1, 100, 100),\n",
        "    'gender': np.random.choice(['Male', 'Female', 'Other'], 100),\n",
        "    'email': [fake.email() for _ in range(100)],\n",
        "    'city': [fake.city() for _ in range(100)]\n",
        "})\n",
        "\n",
        "df_patients.to_csv('patients_raw.csv', index=False)\n",
        "\n",
        "# Generate Medical Visit Data\n",
        "df_visits = pd.DataFrame({\n",
        "    'visit_id': range(1, 501),\n",
        "    'patient_id': np.random.choice(df_patients['patient_id'], 500),\n",
        "    'visit_date': [fake.date_this_decade() for _ in range(500)],\n",
        "    'diagnosis': np.random.choice(['Flu', 'Diabetes', 'Hypertension', 'Covid-19', 'Allergy'], 500),\n",
        "    'treatment_cost': np.round(np.random.uniform(50, 1000, 500), 2),\n",
        "    'insurance_coverage': np.round(np.random.uniform(0, 1, 500), 2)\n",
        "})\n",
        "\n",
        "df_visits.to_csv('medical_visits.csv', index=False)\n",
        "\n",
        "print(\"Synthetic datasets generated: 'patients_raw.csv' and 'medical_visits.csv'\")\n"
      ]
    },
    {
      "cell_type": "markdown",
      "source": [
        "**Data**\n",
        "\n",
        "patients_raw.csv:\n",
        "\n",
        "- patient_id: Unique identifier for each patient (integer).\n",
        "- name: Full name of the patient (string).\n",
        "- age: Age of the patient (integer).\n",
        "- gender: Gender of the patient (string: Male, Female, Other).\n",
        "- email: Email address of the patient (string).\n",
        "- city: City where the patient resides (string).\n",
        "\n",
        "medical_visits.csv:\n",
        "- visit_id: Unique identifier for each visit (integer).\n",
        "- patient_id: Identifier linking visits to patients (integer).\n",
        "- visit_date: Date of the medical visit (date/string).\n",
        "- diagnosis: Diagnosis made during the visit (string: Flu, Diabetes, Hypertension, Covid-19, Allergy).\n",
        "- treatment_cost: Cost incurred for the treatment (float).\n",
        "- insurance_coverage: Percentage of the cost covered by insurance (float)."
      ],
      "metadata": {
        "id": "ANpmlY5FulyB"
      }
    },
    {
      "cell_type": "markdown",
      "source": [
        "## **Basic (RBT Levels: 2, 3):**\n",
        "\n",
        "Total: 5 Marks\n",
        "\n",
        "Each Question Carry 1 Mark"
      ],
      "metadata": {
        "id": "OkVdMVyXu72u"
      }
    },
    {
      "cell_type": "markdown",
      "source": [
        "**1. Data Loading and Exploration:**\n",
        "- Load patients_raw.csv and medical_visits.csv into Pandas DataFrames.\n",
        "- Display the first 5 rows and use .info() to display data types."
      ],
      "metadata": {
        "id": "dbHnbO8gu9ps"
      }
    },
    {
      "cell_type": "code",
      "source": [
        "# Data Loading and Exploration:\n",
        "# Load patients_raw.csv and medical_visits.csv into Pandas DataFrames.\n",
        "# Display the first 5 rows and use .info() to display data types.\n",
        "# Your Code Here"
      ],
      "metadata": {
        "id": "pxGY0gCFvDEa"
      },
      "execution_count": null,
      "outputs": []
    },
    {
      "cell_type": "markdown",
      "source": [
        "**Explanation**\n",
        "\n",
        "[Your explanation here]"
      ],
      "metadata": {
        "id": "QQzYzkF2ylsj"
      }
    },
    {
      "cell_type": "markdown",
      "source": [
        "**2. Data Merging:**\n",
        "\n",
        "- Merge the two datasets using an inner join on patient_id.\n",
        "- Display the first 5 rows of the merged DataFrame."
      ],
      "metadata": {
        "id": "pvmX-3kVvJO2"
      }
    },
    {
      "cell_type": "code",
      "source": [
        "# Data Merging:\n",
        "# Merge the two datasets using an inner join on patient_id.\n",
        "df_merged = pd.merge(df_patients, df_visits, on='patient_id', how='inner')\n",
        "\n",
        "# Display first 5 rows\n",
        "display(df_merged.head())"
      ],
      "metadata": {
        "id": "GGizGUbXvPcZ"
      },
      "execution_count": null,
      "outputs": []
    },
    {
      "cell_type": "markdown",
      "source": [
        "The code merges df_patients and df_visits DataFrames using an inner join on the patient_id column, ensuring that only matching records from both datasets are included. The resulting DataFrame, df_merged, contains combined patient and medical visit data. The first five rows of the merged dataset are displayed using head()."
      ],
      "metadata": {
        "id": "UGFgmnkNymm3"
      }
    },
    {
      "cell_type": "markdown",
      "source": [
        "**3. Missing Value Identification:**\n",
        "\n",
        "Identify columns with missing values and report the count of missing values in each."
      ],
      "metadata": {
        "id": "ZsIOenQAvVdK"
      }
    },
    {
      "cell_type": "code",
      "source": [
        "# Missing Value Identification:\n",
        "# Identify columns with missing values and report the count of missing values in each.\n",
        "# Your Code Here"
      ],
      "metadata": {
        "id": "8j_UZc8xvX5c"
      },
      "execution_count": null,
      "outputs": []
    },
    {
      "cell_type": "markdown",
      "source": [
        "**Explanation**\n",
        "\n",
        "[Your explanation here]"
      ],
      "metadata": {
        "id": "r8c58YW5ynb2"
      }
    },
    {
      "cell_type": "markdown",
      "source": [
        "**4. Duplicate Row Removal:**\n",
        "\n",
        "Check for and remove any duplicate rows in the medical_visits.csv DataFrame."
      ],
      "metadata": {
        "id": "PSKh8t0vveKp"
      }
    },
    {
      "cell_type": "code",
      "source": [
        "# Duplicate Row Removal:\n",
        "# Check for and remove any duplicate rows in the medical_visits.csv DataFrame.\n",
        "# Your Code Here"
      ],
      "metadata": {
        "id": "lrvHXN3PvvqX"
      },
      "execution_count": null,
      "outputs": []
    },
    {
      "cell_type": "markdown",
      "source": [
        "**Explanation**\n",
        "\n",
        "[Your explanation here]"
      ],
      "metadata": {
        "id": "-v-7sNEHyoXX"
      }
    },
    {
      "cell_type": "markdown",
      "source": [
        "**5. Basic Column Renaming:**\n",
        "\n",
        "Rename the treatment_cost column in medical_visits.csv to cost."
      ],
      "metadata": {
        "id": "zobC8qqOv3fI"
      }
    },
    {
      "cell_type": "code",
      "source": [
        "# Basic Column Renaming:\n",
        "# Rename the treatment_cost column in medical_visits.csv to cost.\n",
        "# Your Code Here"
      ],
      "metadata": {
        "id": "ZaPggPD-v52J"
      },
      "execution_count": null,
      "outputs": []
    },
    {
      "cell_type": "markdown",
      "source": [
        "**Explanation**\n",
        "\n",
        "[Your explanation here]"
      ],
      "metadata": {
        "id": "2nwKrAXdyo2b"
      }
    },
    {
      "cell_type": "markdown",
      "source": [
        "##**Intermediate (RBT Levels: 3, 4):**\n",
        "\n",
        "Total: 10 Marks\n",
        "\n",
        "Each Question Carry 2 Marks\n",
        "\n"
      ],
      "metadata": {
        "id": "cGy6A4Abv_g4"
      }
    },
    {
      "cell_type": "markdown",
      "source": [
        "**6. Missing Value Imputation:**\n",
        "- Impute missing values in the email column with a placeholder string \"[email address removed]\".\n",
        "- Impute missing values in age with the median age."
      ],
      "metadata": {
        "id": "3gd_emmawBfE"
      }
    },
    {
      "cell_type": "code",
      "source": [
        "# Missing Value Imputation:\n",
        "# Impute missing values in the email column with a placeholder string \"[email address removed]\".\n",
        "# Impute missing values in age with the median age.\n",
        "# Your Code Here"
      ],
      "metadata": {
        "id": "NDzpJWFwwH0l"
      },
      "execution_count": null,
      "outputs": []
    },
    {
      "cell_type": "markdown",
      "source": [
        "**Explanation**\n",
        "\n",
        "[Your explanation here]"
      ],
      "metadata": {
        "id": "R0W_cvIMyphk"
      }
    },
    {
      "cell_type": "markdown",
      "source": [
        "**7. Categorical Data Conversion:**\n",
        "\n",
        "Apply one-hot encoding to the diagnosis column."
      ],
      "metadata": {
        "id": "JUyrjjOQwNHF"
      }
    },
    {
      "cell_type": "code",
      "source": [
        "# Categorical Data Conversion:\n",
        "# Apply one-hot encoding to the diagnosis column.\n",
        "# Your Code Here"
      ],
      "metadata": {
        "id": "YCvyd89zwPvT"
      },
      "execution_count": null,
      "outputs": []
    },
    {
      "cell_type": "markdown",
      "source": [
        "**Explanation**\n",
        "\n",
        "[Your explanation here]"
      ],
      "metadata": {
        "id": "1g0e2gCQyqJn"
      }
    },
    {
      "cell_type": "markdown",
      "source": [
        "**8. String Manipulation:**\n",
        "\n",
        "Extract the domain name from the email column and create a new column called email_domain."
      ],
      "metadata": {
        "id": "-8aDdWplwUqC"
      }
    },
    {
      "cell_type": "code",
      "source": [
        "# String Manipulation:\n",
        "# Extract the domain name from the email column and create a new column called email_domain.\n",
        "# Your Code Here"
      ],
      "metadata": {
        "id": "K6WG2P81wYAW"
      },
      "execution_count": null,
      "outputs": []
    },
    {
      "cell_type": "markdown",
      "source": [
        "**Explanation**\n",
        "\n",
        "[Your explanation here]"
      ],
      "metadata": {
        "id": "XEMmlV3tyqo1"
      }
    },
    {
      "cell_type": "markdown",
      "source": [
        "**9. Discretization and Binning:**\n",
        "\n",
        "Create a new categorical column called cost_category by binning the cost into \"Low\", \"Medium\", and \"High\" categories.\n"
      ],
      "metadata": {
        "id": "Ni1GpcLbwdUV"
      }
    },
    {
      "cell_type": "code",
      "source": [
        "# Discretization and Binning:\n",
        "# Create a new categorical column called cost_category by binning the cost into \"Low\", \"Medium\", and \"High\" categories.\n",
        "# Your Code Here\n"
      ],
      "metadata": {
        "id": "_PUfEM9kwi-y"
      },
      "execution_count": null,
      "outputs": []
    },
    {
      "cell_type": "markdown",
      "source": [
        "**Explanation**\n",
        "\n",
        "[Your explanation here]"
      ],
      "metadata": {
        "id": "WfNWBZHeyrKm"
      }
    },
    {
      "cell_type": "markdown",
      "source": [
        "**10. Outlier Detection:**\n",
        "\n",
        "Use the IQR method to identify outliers in the cost column."
      ],
      "metadata": {
        "id": "O3u7hYvWwnHy"
      }
    },
    {
      "cell_type": "code",
      "source": [
        "# Outlier Detection:\n",
        "# Use the IQR method to identify outliers in the cost column.\n",
        "# Your Code Here"
      ],
      "metadata": {
        "id": "BPqti0o5wsRX"
      },
      "execution_count": null,
      "outputs": []
    },
    {
      "cell_type": "markdown",
      "source": [
        "**Explanation**\n",
        "\n",
        "[Your explanation here]"
      ],
      "metadata": {
        "id": "u1GvdPYWyrvP"
      }
    },
    {
      "cell_type": "markdown",
      "source": [
        "##**Advanced (RBT Levels: 4, 5):**\n",
        "\n",
        "Total: 15 Marks\n",
        "\n",
        "Each Question Carry 3 Marks"
      ],
      "metadata": {
        "id": "ED_a_eAoww_8"
      }
    },
    {
      "cell_type": "markdown",
      "source": [
        "**11. Grouped Aggregation:**\n",
        "\n",
        "Group visits by patient_id and calculate the total medical expenses for each patient."
      ],
      "metadata": {
        "id": "TBuWOiKUwz_r"
      }
    },
    {
      "cell_type": "code",
      "source": [
        "# Grouped Aggregation:\n",
        "# Group visits by patient_id and calculate the total medical expenses for each patient.\n",
        "# Your Code Here"
      ],
      "metadata": {
        "id": "R7cQ5ZM_w741"
      },
      "execution_count": null,
      "outputs": []
    },
    {
      "cell_type": "markdown",
      "source": [
        "**Explanation**\n",
        "\n",
        "[Your explanation here]"
      ],
      "metadata": {
        "id": "M0ZWa3oIysgl"
      }
    },
    {
      "cell_type": "markdown",
      "source": [
        "**12. Grouped Transformation:**\n",
        "\n",
        "Normalize the cost within each diagnosis category using z-scores."
      ],
      "metadata": {
        "id": "tfJcuq9tw94U"
      }
    },
    {
      "cell_type": "code",
      "source": [
        "# Grouped Transformation:\n",
        "# Normalize the cost within each diagnosis category using z-scores.\n",
        "# Your Code Here"
      ],
      "metadata": {
        "id": "v06lUWSZxAlY"
      },
      "execution_count": null,
      "outputs": []
    },
    {
      "cell_type": "markdown",
      "source": [
        "**Explanation**\n",
        "\n",
        "[Your explanation here]"
      ],
      "metadata": {
        "id": "X7H3OidKytAk"
      }
    },
    {
      "cell_type": "markdown",
      "source": [
        "**13.Time Series Analysis (Basic):**\n",
        "\n",
        "- Convert visit_date to datetime objects.\n",
        "- Group visits by month and calculate the average cost for each month."
      ],
      "metadata": {
        "id": "7P1ZrGqCxFaq"
      }
    },
    {
      "cell_type": "code",
      "source": [
        "# Time Series Analysis (Basic):\n",
        "# Convert visit_date to datetime objects.\n",
        "# Group visits by month and calculate the average cost for each month.\n",
        "# Your Code Here"
      ],
      "metadata": {
        "id": "U97tleKAxLzw"
      },
      "execution_count": null,
      "outputs": []
    },
    {
      "cell_type": "markdown",
      "source": [
        "**Explanation**\n",
        "\n",
        "[Your explanation here]"
      ],
      "metadata": {
        "id": "jZTdAAuhytlm"
      }
    },
    {
      "cell_type": "markdown",
      "source": [
        "**14. Correlation Analysis:**\n",
        "\n",
        "- Calculate the correlation between age and cost.\n",
        "- Calculate the correlation between cost and insurance_coverage."
      ],
      "metadata": {
        "id": "Ju8f3USAxRfg"
      }
    },
    {
      "cell_type": "markdown",
      "source": [
        "**Explanation**\n",
        "\n",
        "[Your explanation here]"
      ],
      "metadata": {
        "id": "DgX396DayuR0"
      }
    },
    {
      "cell_type": "code",
      "source": [
        "# Correlation Analysis:\n",
        "# Calculate the correlation between age and cost.\n",
        "# Calculate the correlation between cost and insurance_coverage.\n",
        "# Your Code Here"
      ],
      "metadata": {
        "id": "9OhqRAzExVMm"
      },
      "execution_count": null,
      "outputs": []
    },
    {
      "cell_type": "markdown",
      "source": [
        "**Explanation**\n",
        "\n",
        "[Your explanation here]"
      ],
      "metadata": {
        "id": "ognRFlAIyvAi"
      }
    },
    {
      "cell_type": "markdown",
      "source": [
        "**15. Conditional Logic and Feature Engineering:**\n",
        "\n",
        "Create a new column called high_expense_patient that indicates whether a patient's total medical expenses are above a certain threshold."
      ],
      "metadata": {
        "id": "AZTnOmvZxa2b"
      }
    },
    {
      "cell_type": "code",
      "source": [
        "# Conditional Logic and Feature Engineering:\n",
        "# Create a new column called high_expense_patient that indicates whether a patient's total medical expenses are above a certain threshold.\n",
        "# Your Code Here"
      ],
      "metadata": {
        "id": "U7oAcVzRxd9p"
      },
      "execution_count": null,
      "outputs": []
    },
    {
      "cell_type": "markdown",
      "source": [
        "**Explanation**\n",
        "\n",
        "[Your explanation here]"
      ],
      "metadata": {
        "id": "i78khkxKyv4v"
      }
    },
    {
      "cell_type": "markdown",
      "source": [
        "**Report**\n",
        "\n",
        "Part 1: Compile the explanations for each question.\n",
        "\n",
        "Part 2: Answer the following data analysis questions:\n",
        "  1. What are the key characteristics of the patient and medical visit data?\n",
        "  2. What are the main trends in medical expenses?\n",
        "  3. How does patient age relate to treatment costs?\n",
        "  4. Identify and discuss any potential data quality issues.\n",
        "  5. Provide 2-3 actionable insights for healthcare providers based on your analysis."
      ],
      "metadata": {
        "id": "1wq00TKWxktR"
      }
    }
  ]
}